{
  "cells": [
    {
      "cell_type": "markdown",
      "id": "25d7736c-ba17-4aff-b6bb-66eba20fbf4e",
      "metadata": {
        "id": "25d7736c-ba17-4aff-b6bb-66eba20fbf4e"
      },
      "source": [
        "# Lab | List, Dict and Set Comprehension"
      ]
    },
    {
      "cell_type": "markdown",
      "id": "7dd3cbde-675a-4b81-92c3-f728846dbe06",
      "metadata": {
        "id": "7dd3cbde-675a-4b81-92c3-f728846dbe06"
      },
      "source": [
        "## Exercise: Managing Customer Orders Optimized with Comprehension"
      ]
    },
    {
      "cell_type": "markdown",
      "id": "5d500160-2fb7-4777-b5e4-09d45ebaf328",
      "metadata": {
        "id": "5d500160-2fb7-4777-b5e4-09d45ebaf328"
      },
      "source": [
        "In the previous exercise, you developed a program to manage customer orders and inventory. Now, let's take it a step further and incorporate comprehension into your code.\n",
        "\n",
        "Follow the steps below to complete the exercise:\n",
        "\n",
        "1. Review your code from the previous exercise and identify areas where you can apply comprehension to simplify and streamline your code.\n",
        "\n",
        "    - *Hint: Apply it to initialize inventory, updating the inventory and printing the updated inventory.*\n",
        "    \n",
        "    - For example, in initializing the inventory, we could have:\n",
        "    \n",
        "        ```python\n",
        "        def initialize_inventory(products):\n",
        "            inventory = {product: int(input(f\"Enter the quantity of {product}s available: \")) for product in products}\n",
        "            return inventory\n",
        "\n",
        "        ```\n",
        "<br>\n",
        "    \n",
        "    \n",
        "2. Modify the function get_customer_orders so it prompts the user to enter the number of customer orders and gathers the product names using a loop and user input. Use comprehension.\n",
        "\n",
        "3. Add a new function to calculate the total price of the customer order. For each product in customer_orders, prompt the user to enter the price of that product. Use comprehension to calculate the total price. Note: assume that the user can only have 1 unit of each product.\n",
        "\n",
        "4. Modify the update_inventory function to remove the product from the inventory if its quantity becomes zero after fulfilling the customer orders. Use comprehension to filter out the products with a quantity of zero from the inventory.\n",
        "\n",
        "5. Print the total price of the customer order.\n",
        "\n",
        "Your code should produce output similar to the following:\n",
        "\n",
        "```python\n",
        "Enter the quantity of t-shirts available:  5\n",
        "Enter the quantity of mugs available:  4\n",
        "Enter the quantity of hats available:  3\n",
        "Enter the quantity of books available:  2\n",
        "Enter the quantity of keychains available:  1\n",
        "Enter the number of customer orders:  2\n",
        "Enter the name of a product that a customer wants to order:  hat\n",
        "Enter the name of a product that a customer wants to order:  keychain\n",
        "\n",
        "Order Statistics:\n",
        "Total Products Ordered: 2\n",
        "Percentage of Unique Products Ordered: 40.0\n",
        "\n",
        "Updated Inventory:\n",
        "t-shirt: 5\n",
        "mug: 4\n",
        "hat: 2\n",
        "book: 2\n",
        "Enter the price of keychain:  5\n",
        "Enter the price of hat:  10\n",
        "Total Price: 15.0\n",
        "\n",
        "```\n"
      ]
    },
    {
      "cell_type": "code",
      "source": [
        "def initialize_inventory(products):\n",
        "  return{product: int(input(f\"Enter the quantity of {product}s available: \")) for product in products}\n",
        "\n",
        "\n",
        "def get_customer_orders():\n",
        "  return{input(f\"Please choose a product off the list:{products}\") for i in range(int(input(\"how many orders do you want to make?\")))}\n",
        "\n",
        "\n",
        "def calculate_prices(customer_orders):\n",
        "  return sum(float(input(f\"Please enter the price for a {i}\")) for i in customer_orders)"
      ],
      "metadata": {
        "id": "tVN-16WzCikd"
      },
      "id": "tVN-16WzCikd",
      "execution_count": 28,
      "outputs": []
    },
    {
      "cell_type": "code",
      "source": [
        "def update_inventory(customer_orders,inventory):\n",
        "  for i in customer_orders:\n",
        "    if inventory[i]>=0:\n",
        "      inventory[i]-=1\n",
        "  return inventory\n",
        "\n",
        "def calculate_order_statistics(customer_orders,products):\n",
        "  TPO=len(customer_orders)\n",
        "  PUPO=(len(customer_orders)*100//len(products))\n",
        "  print(str(TPO) + \" total products ordered\")\n",
        "  print(str(PUPO) + \" percent of unique products ordered\")\n",
        "  return TPO,PUPO\n",
        "\n",
        "def print_updated_inventory(inventory):\n",
        "  for i in inventory:\n",
        "    print(i)\n",
        "    print(inventory[i])\n",
        "\n",
        "products=[\"hat\",\"mug\",\"t-shirt\",\"book\",\"keychain\"]\n",
        "\n",
        "inventory=initialize_inventory(products)\n",
        "\n",
        "orders=get_customer_orders()\n",
        "\n",
        "update_inventory(orders,inventory)\n",
        "\n",
        "calculate_order_statistics(orders,products)\n",
        "\n",
        "print_updated_inventory(inventory)\n",
        "\n",
        "print(f\"The total order price is {calculate_prices(orders)}\")\n",
        "\n"
      ],
      "metadata": {
        "colab": {
          "base_uri": "https://localhost:8080/"
        },
        "id": "0V6zPrRWCY7j",
        "outputId": "42147d13-4e4b-4900-8e09-cf88bb0839ad"
      },
      "id": "0V6zPrRWCY7j",
      "execution_count": 29,
      "outputs": [
        {
          "output_type": "stream",
          "name": "stdout",
          "text": [
            "Enter the quantity of hats available: 3\n",
            "Enter the quantity of mugs available: 3\n",
            "Enter the quantity of t-shirts available: 3\n",
            "Enter the quantity of books available: 3\n",
            "Enter the quantity of keychains available: 3\n",
            "how many orders do you want to make?1\n",
            "Please choose a product off the list:['hat', 'mug', 't-shirt', 'book', 'keychain']hat\n",
            "1 total products ordered\n",
            "20 percent of unique products ordered\n",
            "hat\n",
            "2\n",
            "mug\n",
            "3\n",
            "t-shirt\n",
            "3\n",
            "book\n",
            "3\n",
            "keychain\n",
            "3\n",
            "Please enter the price for a hat4.50\n",
            "The total order price is 4.5\n"
          ]
        }
      ]
    },
    {
      "cell_type": "code",
      "source": [
        "\n",
        "\n",
        "\n"
      ],
      "metadata": {
        "id": "__VF94b3BVSc"
      },
      "id": "__VF94b3BVSc",
      "execution_count": null,
      "outputs": []
    }
  ],
  "metadata": {
    "kernelspec": {
      "display_name": "Python 3 (ipykernel)",
      "language": "python",
      "name": "python3"
    },
    "language_info": {
      "codemirror_mode": {
        "name": "ipython",
        "version": 3
      },
      "file_extension": ".py",
      "mimetype": "text/x-python",
      "name": "python",
      "nbconvert_exporter": "python",
      "pygments_lexer": "ipython3",
      "version": "3.9.13"
    },
    "colab": {
      "provenance": []
    }
  },
  "nbformat": 4,
  "nbformat_minor": 5
}